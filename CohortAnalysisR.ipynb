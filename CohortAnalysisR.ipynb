{
 "cells": [
  {
   "cell_type": "markdown",
   "metadata": {},
   "source": [
    "# Cohort Analysis in R\n",
    "\n",
    "Cohort Analysis is analysis on a group of people with shared characteristics. In most cases, cohort analysis is done on customers who joined a company's customer base at a given time and are grouped according to the month or a chort period in which they joined in. Through this, we mostly look for buying patterns of the cohort and how well is the customer retention. \n",
    "\n",
    "This is a simple step by step guide to do cohort analysis in R"
   ]
  },
  {
   "cell_type": "markdown",
   "metadata": {},
   "source": [
    "We'll start by including basic libraries to read and alter data"
   ]
  },
  {
   "cell_type": "code",
   "execution_count": 1,
   "metadata": {},
   "outputs": [
    {
     "name": "stderr",
     "output_type": "stream",
     "text": [
      "Warning message:\n",
      "\"package 'data.table' was built under R version 3.5.1\"Warning message:\n",
      "\"package 'dplyr' was built under R version 3.5.1\"\n",
      "Attaching package: 'dplyr'\n",
      "\n",
      "The following objects are masked from 'package:data.table':\n",
      "\n",
      "    between, first, last\n",
      "\n",
      "The following objects are masked from 'package:stats':\n",
      "\n",
      "    filter, lag\n",
      "\n",
      "The following objects are masked from 'package:base':\n",
      "\n",
      "    intersect, setdiff, setequal, union\n",
      "\n"
     ]
    }
   ],
   "source": [
    "library(data.table)\n",
    "library(dplyr)"
   ]
  },
  {
   "cell_type": "code",
   "execution_count": 2,
   "metadata": {},
   "outputs": [
    {
     "data": {
      "text/html": [
       "<table>\n",
       "<thead><tr><th scope=col>OrderId</th><th scope=col>OrderDate</th><th scope=col>UserId</th><th scope=col>TotalCharges</th><th scope=col>CommonId</th><th scope=col>PupId</th><th scope=col>PickupDate</th></tr></thead>\n",
       "<tbody>\n",
       "\t<tr><td>262       </td><td>11/01/2009</td><td>47        </td><td>$50.67    </td><td>TRQKD     </td><td>2         </td><td>12/01/2009</td></tr>\n",
       "\t<tr><td>278       </td><td>20/01/2009</td><td>47        </td><td>$26.60    </td><td>4HH2S     </td><td>3         </td><td>20/01/2009</td></tr>\n",
       "\t<tr><td>294       </td><td>03/02/2009</td><td>47        </td><td>$38.71    </td><td>3TRDC     </td><td>2         </td><td>04/02/2009</td></tr>\n",
       "\t<tr><td>301       </td><td>06/02/2009</td><td>47        </td><td>$53.38    </td><td>NGAZJ     </td><td>2         </td><td>09/02/2009</td></tr>\n",
       "\t<tr><td>302       </td><td>06/02/2009</td><td>47        </td><td>$14.28    </td><td>FFYHD     </td><td>2         </td><td>09/02/2009</td></tr>\n",
       "\t<tr><td>321       </td><td>17/02/2009</td><td>47        </td><td>$29.50    </td><td>HA5R3     </td><td>3         </td><td>17/02/2009</td></tr>\n",
       "</tbody>\n",
       "</table>\n"
      ],
      "text/latex": [
       "\\begin{tabular}{r|lllllll}\n",
       " OrderId & OrderDate & UserId & TotalCharges & CommonId & PupId & PickupDate\\\\\n",
       "\\hline\n",
       "\t 262        & 11/01/2009 & 47         & \\$50.67   & TRQKD      & 2          & 12/01/2009\\\\\n",
       "\t 278        & 20/01/2009 & 47         & \\$26.60   & 4HH2S      & 3          & 20/01/2009\\\\\n",
       "\t 294        & 03/02/2009 & 47         & \\$38.71   & 3TRDC      & 2          & 04/02/2009\\\\\n",
       "\t 301        & 06/02/2009 & 47         & \\$53.38   & NGAZJ      & 2          & 09/02/2009\\\\\n",
       "\t 302        & 06/02/2009 & 47         & \\$14.28   & FFYHD      & 2          & 09/02/2009\\\\\n",
       "\t 321        & 17/02/2009 & 47         & \\$29.50   & HA5R3      & 3          & 17/02/2009\\\\\n",
       "\\end{tabular}\n"
      ],
      "text/markdown": [
       "\n",
       "OrderId | OrderDate | UserId | TotalCharges | CommonId | PupId | PickupDate | \n",
       "|---|---|---|---|---|---|\n",
       "| 262        | 11/01/2009 | 47         | $50.67     | TRQKD      | 2          | 12/01/2009 | \n",
       "| 278        | 20/01/2009 | 47         | $26.60     | 4HH2S      | 3          | 20/01/2009 | \n",
       "| 294        | 03/02/2009 | 47         | $38.71     | 3TRDC      | 2          | 04/02/2009 | \n",
       "| 301        | 06/02/2009 | 47         | $53.38     | NGAZJ      | 2          | 09/02/2009 | \n",
       "| 302        | 06/02/2009 | 47         | $14.28     | FFYHD      | 2          | 09/02/2009 | \n",
       "| 321        | 17/02/2009 | 47         | $29.50     | HA5R3      | 3          | 17/02/2009 | \n",
       "\n",
       "\n"
      ],
      "text/plain": [
       "  OrderId OrderDate  UserId TotalCharges CommonId PupId PickupDate\n",
       "1 262     11/01/2009 47     $50.67       TRQKD    2     12/01/2009\n",
       "2 278     20/01/2009 47     $26.60       4HH2S    3     20/01/2009\n",
       "3 294     03/02/2009 47     $38.71       3TRDC    2     04/02/2009\n",
       "4 301     06/02/2009 47     $53.38       NGAZJ    2     09/02/2009\n",
       "5 302     06/02/2009 47     $14.28       FFYHD    2     09/02/2009\n",
       "6 321     17/02/2009 47     $29.50       HA5R3    3     17/02/2009"
      ]
     },
     "metadata": {},
     "output_type": "display_data"
    }
   ],
   "source": [
    "data<-fread(\"D:\\\\relay-foods.csv\")\n",
    "head(data)"
   ]
  },
  {
   "cell_type": "markdown",
   "metadata": {},
   "source": [
    "In our data, the 'OrderDate' attribute is what we will be using for our Cohort Analysis. However, it is not in the date format and hence we will have to convert it and extract the month (Order period) from it."
   ]
  },
  {
   "cell_type": "code",
   "execution_count": 3,
   "metadata": {},
   "outputs": [],
   "source": [
    "data$Order_Period <- format(as.Date(data$OrderDate, \"%d/%m/%Y\"), \"%Y-%m\")\n",
    "data$Order_Period<-as.Date(paste(data$Order_Period,\"-01\",sep=\"\"))"
   ]
  },
  {
   "cell_type": "code",
   "execution_count": 4,
   "metadata": {},
   "outputs": [
    {
     "data": {
      "text/html": [
       "<table>\n",
       "<thead><tr><th scope=col>OrderId</th><th scope=col>OrderDate</th><th scope=col>UserId</th><th scope=col>TotalCharges</th><th scope=col>CommonId</th><th scope=col>PupId</th><th scope=col>PickupDate</th><th scope=col>Order_Period</th></tr></thead>\n",
       "<tbody>\n",
       "\t<tr><td>262       </td><td>11/01/2009</td><td>47        </td><td>$50.67    </td><td>TRQKD     </td><td>2         </td><td>12/01/2009</td><td>2009-01-01</td></tr>\n",
       "\t<tr><td>278       </td><td>20/01/2009</td><td>47        </td><td>$26.60    </td><td>4HH2S     </td><td>3         </td><td>20/01/2009</td><td>2009-01-01</td></tr>\n",
       "\t<tr><td>294       </td><td>03/02/2009</td><td>47        </td><td>$38.71    </td><td>3TRDC     </td><td>2         </td><td>04/02/2009</td><td>2009-02-01</td></tr>\n",
       "\t<tr><td>301       </td><td>06/02/2009</td><td>47        </td><td>$53.38    </td><td>NGAZJ     </td><td>2         </td><td>09/02/2009</td><td>2009-02-01</td></tr>\n",
       "\t<tr><td>302       </td><td>06/02/2009</td><td>47        </td><td>$14.28    </td><td>FFYHD     </td><td>2         </td><td>09/02/2009</td><td>2009-02-01</td></tr>\n",
       "\t<tr><td>321       </td><td>17/02/2009</td><td>47        </td><td>$29.50    </td><td>HA5R3     </td><td>3         </td><td>17/02/2009</td><td>2009-02-01</td></tr>\n",
       "</tbody>\n",
       "</table>\n"
      ],
      "text/latex": [
       "\\begin{tabular}{r|llllllll}\n",
       " OrderId & OrderDate & UserId & TotalCharges & CommonId & PupId & PickupDate & Order\\_Period\\\\\n",
       "\\hline\n",
       "\t 262        & 11/01/2009 & 47         & \\$50.67   & TRQKD      & 2          & 12/01/2009 & 2009-01-01\\\\\n",
       "\t 278        & 20/01/2009 & 47         & \\$26.60   & 4HH2S      & 3          & 20/01/2009 & 2009-01-01\\\\\n",
       "\t 294        & 03/02/2009 & 47         & \\$38.71   & 3TRDC      & 2          & 04/02/2009 & 2009-02-01\\\\\n",
       "\t 301        & 06/02/2009 & 47         & \\$53.38   & NGAZJ      & 2          & 09/02/2009 & 2009-02-01\\\\\n",
       "\t 302        & 06/02/2009 & 47         & \\$14.28   & FFYHD      & 2          & 09/02/2009 & 2009-02-01\\\\\n",
       "\t 321        & 17/02/2009 & 47         & \\$29.50   & HA5R3      & 3          & 17/02/2009 & 2009-02-01\\\\\n",
       "\\end{tabular}\n"
      ],
      "text/markdown": [
       "\n",
       "OrderId | OrderDate | UserId | TotalCharges | CommonId | PupId | PickupDate | Order_Period | \n",
       "|---|---|---|---|---|---|\n",
       "| 262        | 11/01/2009 | 47         | $50.67     | TRQKD      | 2          | 12/01/2009 | 2009-01-01 | \n",
       "| 278        | 20/01/2009 | 47         | $26.60     | 4HH2S      | 3          | 20/01/2009 | 2009-01-01 | \n",
       "| 294        | 03/02/2009 | 47         | $38.71     | 3TRDC      | 2          | 04/02/2009 | 2009-02-01 | \n",
       "| 301        | 06/02/2009 | 47         | $53.38     | NGAZJ      | 2          | 09/02/2009 | 2009-02-01 | \n",
       "| 302        | 06/02/2009 | 47         | $14.28     | FFYHD      | 2          | 09/02/2009 | 2009-02-01 | \n",
       "| 321        | 17/02/2009 | 47         | $29.50     | HA5R3      | 3          | 17/02/2009 | 2009-02-01 | \n",
       "\n",
       "\n"
      ],
      "text/plain": [
       "  OrderId OrderDate  UserId TotalCharges CommonId PupId PickupDate Order_Period\n",
       "1 262     11/01/2009 47     $50.67       TRQKD    2     12/01/2009 2009-01-01  \n",
       "2 278     20/01/2009 47     $26.60       4HH2S    3     20/01/2009 2009-01-01  \n",
       "3 294     03/02/2009 47     $38.71       3TRDC    2     04/02/2009 2009-02-01  \n",
       "4 301     06/02/2009 47     $53.38       NGAZJ    2     09/02/2009 2009-02-01  \n",
       "5 302     06/02/2009 47     $14.28       FFYHD    2     09/02/2009 2009-02-01  \n",
       "6 321     17/02/2009 47     $29.50       HA5R3    3     17/02/2009 2009-02-01  "
      ]
     },
     "metadata": {},
     "output_type": "display_data"
    }
   ],
   "source": [
    "head(data)"
   ]
  },
  {
   "cell_type": "markdown",
   "metadata": {},
   "source": [
    "Now that we have our Order Period in our data, we can find the Cohort groups of users by taking the minimum of 'Order_Period' corresponding to every user"
   ]
  },
  {
   "cell_type": "code",
   "execution_count": 5,
   "metadata": {},
   "outputs": [],
   "source": [
    "cohort_col<-as.data.frame(aggregate(data$Order_Period, by=list(data$UserId), min))\n",
    "colnames(cohort_col)<-c('UserId','CohortGp')\n",
    "\n",
    "# A new data frame is created as the aggregate function would have returned less rows than the original data frame\n",
    "# Hence it was easier to merge\n",
    "\n",
    "df<-merge(data, cohort_col, by = \"UserId\")"
   ]
  },
  {
   "cell_type": "code",
   "execution_count": 6,
   "metadata": {},
   "outputs": [
    {
     "data": {
      "text/html": [
       "<table>\n",
       "<thead><tr><th scope=col>UserId</th><th scope=col>OrderId</th><th scope=col>OrderDate</th><th scope=col>TotalCharges</th><th scope=col>CommonId</th><th scope=col>PupId</th><th scope=col>PickupDate</th><th scope=col>Order_Period</th><th scope=col>CohortGp</th></tr></thead>\n",
       "<tbody>\n",
       "\t<tr><td>47        </td><td>262       </td><td>11/01/2009</td><td>$50.67    </td><td>TRQKD     </td><td>2         </td><td>12/01/2009</td><td>2009-01-01</td><td>2009-01-01</td></tr>\n",
       "\t<tr><td>47        </td><td>278       </td><td>20/01/2009</td><td>$26.60    </td><td>4HH2S     </td><td>3         </td><td>20/01/2009</td><td>2009-01-01</td><td>2009-01-01</td></tr>\n",
       "\t<tr><td>47        </td><td>294       </td><td>03/02/2009</td><td>$38.71    </td><td>3TRDC     </td><td>2         </td><td>04/02/2009</td><td>2009-02-01</td><td>2009-01-01</td></tr>\n",
       "\t<tr><td>47        </td><td>301       </td><td>06/02/2009</td><td>$53.38    </td><td>NGAZJ     </td><td>2         </td><td>09/02/2009</td><td>2009-02-01</td><td>2009-01-01</td></tr>\n",
       "\t<tr><td>47        </td><td>302       </td><td>06/02/2009</td><td>$14.28    </td><td>FFYHD     </td><td>2         </td><td>09/02/2009</td><td>2009-02-01</td><td>2009-01-01</td></tr>\n",
       "\t<tr><td>47        </td><td>321       </td><td>17/02/2009</td><td>$29.50    </td><td>HA5R3     </td><td>3         </td><td>17/02/2009</td><td>2009-02-01</td><td>2009-01-01</td></tr>\n",
       "</tbody>\n",
       "</table>\n"
      ],
      "text/latex": [
       "\\begin{tabular}{r|lllllllll}\n",
       " UserId & OrderId & OrderDate & TotalCharges & CommonId & PupId & PickupDate & Order\\_Period & CohortGp\\\\\n",
       "\\hline\n",
       "\t 47         & 262        & 11/01/2009 & \\$50.67   & TRQKD      & 2          & 12/01/2009 & 2009-01-01 & 2009-01-01\\\\\n",
       "\t 47         & 278        & 20/01/2009 & \\$26.60   & 4HH2S      & 3          & 20/01/2009 & 2009-01-01 & 2009-01-01\\\\\n",
       "\t 47         & 294        & 03/02/2009 & \\$38.71   & 3TRDC      & 2          & 04/02/2009 & 2009-02-01 & 2009-01-01\\\\\n",
       "\t 47         & 301        & 06/02/2009 & \\$53.38   & NGAZJ      & 2          & 09/02/2009 & 2009-02-01 & 2009-01-01\\\\\n",
       "\t 47         & 302        & 06/02/2009 & \\$14.28   & FFYHD      & 2          & 09/02/2009 & 2009-02-01 & 2009-01-01\\\\\n",
       "\t 47         & 321        & 17/02/2009 & \\$29.50   & HA5R3      & 3          & 17/02/2009 & 2009-02-01 & 2009-01-01\\\\\n",
       "\\end{tabular}\n"
      ],
      "text/markdown": [
       "\n",
       "UserId | OrderId | OrderDate | TotalCharges | CommonId | PupId | PickupDate | Order_Period | CohortGp | \n",
       "|---|---|---|---|---|---|\n",
       "| 47         | 262        | 11/01/2009 | $50.67     | TRQKD      | 2          | 12/01/2009 | 2009-01-01 | 2009-01-01 | \n",
       "| 47         | 278        | 20/01/2009 | $26.60     | 4HH2S      | 3          | 20/01/2009 | 2009-01-01 | 2009-01-01 | \n",
       "| 47         | 294        | 03/02/2009 | $38.71     | 3TRDC      | 2          | 04/02/2009 | 2009-02-01 | 2009-01-01 | \n",
       "| 47         | 301        | 06/02/2009 | $53.38     | NGAZJ      | 2          | 09/02/2009 | 2009-02-01 | 2009-01-01 | \n",
       "| 47         | 302        | 06/02/2009 | $14.28     | FFYHD      | 2          | 09/02/2009 | 2009-02-01 | 2009-01-01 | \n",
       "| 47         | 321        | 17/02/2009 | $29.50     | HA5R3      | 3          | 17/02/2009 | 2009-02-01 | 2009-01-01 | \n",
       "\n",
       "\n"
      ],
      "text/plain": [
       "  UserId OrderId OrderDate  TotalCharges CommonId PupId PickupDate Order_Period\n",
       "1 47     262     11/01/2009 $50.67       TRQKD    2     12/01/2009 2009-01-01  \n",
       "2 47     278     20/01/2009 $26.60       4HH2S    3     20/01/2009 2009-01-01  \n",
       "3 47     294     03/02/2009 $38.71       3TRDC    2     04/02/2009 2009-02-01  \n",
       "4 47     301     06/02/2009 $53.38       NGAZJ    2     09/02/2009 2009-02-01  \n",
       "5 47     302     06/02/2009 $14.28       FFYHD    2     09/02/2009 2009-02-01  \n",
       "6 47     321     17/02/2009 $29.50       HA5R3    3     17/02/2009 2009-02-01  \n",
       "  CohortGp  \n",
       "1 2009-01-01\n",
       "2 2009-01-01\n",
       "3 2009-01-01\n",
       "4 2009-01-01\n",
       "5 2009-01-01\n",
       "6 2009-01-01"
      ]
     },
     "metadata": {},
     "output_type": "display_data"
    }
   ],
   "source": [
    "head(df)"
   ]
  },
  {
   "cell_type": "markdown",
   "metadata": {},
   "source": [
    "Now that we have our Cohort Groups corresponding to every customer, we need to summarise the purchases made of every cohort group Order Period-wise."
   ]
  },
  {
   "cell_type": "code",
   "execution_count": 7,
   "metadata": {},
   "outputs": [
    {
     "name": "stderr",
     "output_type": "stream",
     "text": [
      "Warning message:\n",
      "\"package 'bindrcpp' was built under R version 3.5.1\""
     ]
    }
   ],
   "source": [
    "grouped<-df %>% group_by(\"CohortGp\", \"Order_Period\")\n",
    "\n",
    "cohorts<-df %>% group_by(CohortGp, Order_Period) %>% summarise(Ret_cust=length(unique(UserId)),num_order=(length(unique(OrderId))))\n",
    "cohorts<-cohorts %>% group_by(CohortGp) %>% mutate(counter = row_number(CohortGp))\n",
    "user_retention<-dcast(cohorts, counter ~ CohortGp, value.var= \"Ret_cust\" )\n",
    "user_retention$counter<-NULL"
   ]
  },
  {
   "cell_type": "code",
   "execution_count": 8,
   "metadata": {},
   "outputs": [
    {
     "data": {
      "text/html": [
       "<table>\n",
       "<tbody>\n",
       "\t<tr><th scope=row>2009-01-01</th><td> 22</td><td> 8 </td><td>10 </td><td> 9 </td><td>10 </td><td> 8 </td><td> 8 </td><td> 7 </td><td> 7 </td><td> 7 </td><td> 7 </td><td> 8 </td><td>11 </td><td> 7 </td><td> 6 </td></tr>\n",
       "\t<tr><th scope=row>2009-02-01</th><td> 15</td><td> 3 </td><td> 5 </td><td> 1 </td><td> 4 </td><td> 4 </td><td> 4 </td><td> 5 </td><td> 5 </td><td> 4 </td><td> 3 </td><td> 3 </td><td> 5 </td><td>NA </td><td>NA </td></tr>\n",
       "\t<tr><th scope=row>2009-03-01</th><td> 13</td><td> 4 </td><td> 5 </td><td> 4 </td><td> 1 </td><td> 2 </td><td> 2 </td><td> 3 </td><td> 2 </td><td> 1 </td><td> 3 </td><td> 2 </td><td> 1 </td><td>NA </td><td>NA </td></tr>\n",
       "\t<tr><th scope=row>2009-04-01</th><td> 39</td><td>13 </td><td>10 </td><td>13 </td><td> 6 </td><td> 7 </td><td> 4 </td><td> 6 </td><td> 2 </td><td> 4 </td><td> 3 </td><td> 2 </td><td>NA </td><td>NA </td><td>NA </td></tr>\n",
       "\t<tr><th scope=row>2009-05-01</th><td> 50</td><td>13 </td><td>12 </td><td> 5 </td><td> 4 </td><td> 6 </td><td> 3 </td><td> 5 </td><td> 5 </td><td> 4 </td><td> 3 </td><td>NA </td><td>NA </td><td>NA </td><td>NA </td></tr>\n",
       "\t<tr><th scope=row>2009-06-01</th><td> 32</td><td>15 </td><td> 9 </td><td> 6 </td><td> 7 </td><td> 5 </td><td> 3 </td><td> 3 </td><td>10 </td><td> 3 </td><td>NA </td><td>NA </td><td>NA </td><td>NA </td><td>NA </td></tr>\n",
       "\t<tr><th scope=row>2009-07-01</th><td> 50</td><td>23 </td><td>13 </td><td>10 </td><td>11 </td><td>10 </td><td>11 </td><td> 7 </td><td> 7 </td><td>NA </td><td>NA </td><td>NA </td><td>NA </td><td>NA </td><td>NA </td></tr>\n",
       "\t<tr><th scope=row>2009-08-01</th><td> 31</td><td>11 </td><td> 9 </td><td> 7 </td><td> 6 </td><td> 8 </td><td> 4 </td><td> 4 </td><td>NA </td><td>NA </td><td>NA </td><td>NA </td><td>NA </td><td>NA </td><td>NA </td></tr>\n",
       "\t<tr><th scope=row>2009-09-01</th><td> 37</td><td>15 </td><td>14 </td><td> 8 </td><td>13 </td><td> 9 </td><td> 8 </td><td>NA </td><td>NA </td><td>NA </td><td>NA </td><td>NA </td><td>NA </td><td>NA </td><td>NA </td></tr>\n",
       "\t<tr><th scope=row>2009-10-01</th><td> 54</td><td>17 </td><td>12 </td><td>13 </td><td>13 </td><td> 7 </td><td>NA </td><td>NA </td><td>NA </td><td>NA </td><td>NA </td><td>NA </td><td>NA </td><td>NA </td><td>NA </td></tr>\n",
       "\t<tr><th scope=row>2009-11-01</th><td>130</td><td>32 </td><td>26 </td><td>29 </td><td>13 </td><td>NA </td><td>NA </td><td>NA </td><td>NA </td><td>NA </td><td>NA </td><td>NA </td><td>NA </td><td>NA </td><td>NA </td></tr>\n",
       "\t<tr><th scope=row>2009-12-01</th><td> 65</td><td>17 </td><td>18 </td><td> 7 </td><td>NA </td><td>NA </td><td>NA </td><td>NA </td><td>NA </td><td>NA </td><td>NA </td><td>NA </td><td>NA </td><td>NA </td><td>NA </td></tr>\n",
       "\t<tr><th scope=row>2010-01-01</th><td> 95</td><td>50 </td><td>26 </td><td>NA </td><td>NA </td><td>NA </td><td>NA </td><td>NA </td><td>NA </td><td>NA </td><td>NA </td><td>NA </td><td>NA </td><td>NA </td><td>NA </td></tr>\n",
       "\t<tr><th scope=row>2010-02-01</th><td>100</td><td>19 </td><td>NA </td><td>NA </td><td>NA </td><td>NA </td><td>NA </td><td>NA </td><td>NA </td><td>NA </td><td>NA </td><td>NA </td><td>NA </td><td>NA </td><td>NA </td></tr>\n",
       "\t<tr><th scope=row>2010-03-01</th><td> 24</td><td>NA </td><td>NA </td><td>NA </td><td>NA </td><td>NA </td><td>NA </td><td>NA </td><td>NA </td><td>NA </td><td>NA </td><td>NA </td><td>NA </td><td>NA </td><td>NA </td></tr>\n",
       "</tbody>\n",
       "</table>\n"
      ],
      "text/latex": [
       "\\begin{tabular}{r|lllllllllllllll}\n",
       "\t2009-01-01 &  22 &  8  & 10  &  9  & 10  &  8  &  8  &  7  &  7  &  7  &  7  &  8  & 11  &  7  &  6 \\\\\n",
       "\t2009-02-01 &  15 &  3  &  5  &  1  &  4  &  4  &  4  &  5  &  5  &  4  &  3  &  3  &  5  & NA  & NA \\\\\n",
       "\t2009-03-01 &  13 &  4  &  5  &  4  &  1  &  2  &  2  &  3  &  2  &  1  &  3  &  2  &  1  & NA  & NA \\\\\n",
       "\t2009-04-01 &  39 & 13  & 10  & 13  &  6  &  7  &  4  &  6  &  2  &  4  &  3  &  2  & NA  & NA  & NA \\\\\n",
       "\t2009-05-01 &  50 & 13  & 12  &  5  &  4  &  6  &  3  &  5  &  5  &  4  &  3  & NA  & NA  & NA  & NA \\\\\n",
       "\t2009-06-01 &  32 & 15  &  9  &  6  &  7  &  5  &  3  &  3  & 10  &  3  & NA  & NA  & NA  & NA  & NA \\\\\n",
       "\t2009-07-01 &  50 & 23  & 13  & 10  & 11  & 10  & 11  &  7  &  7  & NA  & NA  & NA  & NA  & NA  & NA \\\\\n",
       "\t2009-08-01 &  31 & 11  &  9  &  7  &  6  &  8  &  4  &  4  & NA  & NA  & NA  & NA  & NA  & NA  & NA \\\\\n",
       "\t2009-09-01 &  37 & 15  & 14  &  8  & 13  &  9  &  8  & NA  & NA  & NA  & NA  & NA  & NA  & NA  & NA \\\\\n",
       "\t2009-10-01 &  54 & 17  & 12  & 13  & 13  &  7  & NA  & NA  & NA  & NA  & NA  & NA  & NA  & NA  & NA \\\\\n",
       "\t2009-11-01 & 130 & 32  & 26  & 29  & 13  & NA  & NA  & NA  & NA  & NA  & NA  & NA  & NA  & NA  & NA \\\\\n",
       "\t2009-12-01 &  65 & 17  & 18  &  7  & NA  & NA  & NA  & NA  & NA  & NA  & NA  & NA  & NA  & NA  & NA \\\\\n",
       "\t2010-01-01 &  95 & 50  & 26  & NA  & NA  & NA  & NA  & NA  & NA  & NA  & NA  & NA  & NA  & NA  & NA \\\\\n",
       "\t2010-02-01 & 100 & 19  & NA  & NA  & NA  & NA  & NA  & NA  & NA  & NA  & NA  & NA  & NA  & NA  & NA \\\\\n",
       "\t2010-03-01 &  24 & NA  & NA  & NA  & NA  & NA  & NA  & NA  & NA  & NA  & NA  & NA  & NA  & NA  & NA \\\\\n",
       "\\end{tabular}\n"
      ],
      "text/markdown": [
       "\n",
       "| 2009-01-01 |  22 |  8  | 10  |  9  | 10  |  8  |  8  |  7  |  7  |  7  |  7  |  8  | 11  |  7  |  6  | \n",
       "| 2009-02-01 |  15 |  3  |  5  |  1  |  4  |  4  |  4  |  5  |  5  |  4  |  3  |  3  |  5  | NA  | NA  | \n",
       "| 2009-03-01 |  13 |  4  |  5  |  4  |  1  |  2  |  2  |  3  |  2  |  1  |  3  |  2  |  1  | NA  | NA  | \n",
       "| 2009-04-01 |  39 | 13  | 10  | 13  |  6  |  7  |  4  |  6  |  2  |  4  |  3  |  2  | NA  | NA  | NA  | \n",
       "| 2009-05-01 |  50 | 13  | 12  |  5  |  4  |  6  |  3  |  5  |  5  |  4  |  3  | NA  | NA  | NA  | NA  | \n",
       "| 2009-06-01 |  32 | 15  |  9  |  6  |  7  |  5  |  3  |  3  | 10  |  3  | NA  | NA  | NA  | NA  | NA  | \n",
       "| 2009-07-01 |  50 | 23  | 13  | 10  | 11  | 10  | 11  |  7  |  7  | NA  | NA  | NA  | NA  | NA  | NA  | \n",
       "| 2009-08-01 |  31 | 11  |  9  |  7  |  6  |  8  |  4  |  4  | NA  | NA  | NA  | NA  | NA  | NA  | NA  | \n",
       "| 2009-09-01 |  37 | 15  | 14  |  8  | 13  |  9  |  8  | NA  | NA  | NA  | NA  | NA  | NA  | NA  | NA  | \n",
       "| 2009-10-01 |  54 | 17  | 12  | 13  | 13  |  7  | NA  | NA  | NA  | NA  | NA  | NA  | NA  | NA  | NA  | \n",
       "| 2009-11-01 | 130 | 32  | 26  | 29  | 13  | NA  | NA  | NA  | NA  | NA  | NA  | NA  | NA  | NA  | NA  | \n",
       "| 2009-12-01 |  65 | 17  | 18  |  7  | NA  | NA  | NA  | NA  | NA  | NA  | NA  | NA  | NA  | NA  | NA  | \n",
       "| 2010-01-01 |  95 | 50  | 26  | NA  | NA  | NA  | NA  | NA  | NA  | NA  | NA  | NA  | NA  | NA  | NA  | \n",
       "| 2010-02-01 | 100 | 19  | NA  | NA  | NA  | NA  | NA  | NA  | NA  | NA  | NA  | NA  | NA  | NA  | NA  | \n",
       "| 2010-03-01 |  24 | NA  | NA  | NA  | NA  | NA  | NA  | NA  | NA  | NA  | NA  | NA  | NA  | NA  | NA  | \n",
       "\n",
       "\n"
      ],
      "text/plain": [
       "           [,1] [,2] [,3] [,4] [,5] [,6] [,7] [,8] [,9] [,10] [,11] [,12] [,13]\n",
       "2009-01-01  22   8   10    9   10    8    8    7    7    7     7     8    11   \n",
       "2009-02-01  15   3    5    1    4    4    4    5    5    4     3     3     5   \n",
       "2009-03-01  13   4    5    4    1    2    2    3    2    1     3     2     1   \n",
       "2009-04-01  39  13   10   13    6    7    4    6    2    4     3     2    NA   \n",
       "2009-05-01  50  13   12    5    4    6    3    5    5    4     3    NA    NA   \n",
       "2009-06-01  32  15    9    6    7    5    3    3   10    3    NA    NA    NA   \n",
       "2009-07-01  50  23   13   10   11   10   11    7    7   NA    NA    NA    NA   \n",
       "2009-08-01  31  11    9    7    6    8    4    4   NA   NA    NA    NA    NA   \n",
       "2009-09-01  37  15   14    8   13    9    8   NA   NA   NA    NA    NA    NA   \n",
       "2009-10-01  54  17   12   13   13    7   NA   NA   NA   NA    NA    NA    NA   \n",
       "2009-11-01 130  32   26   29   13   NA   NA   NA   NA   NA    NA    NA    NA   \n",
       "2009-12-01  65  17   18    7   NA   NA   NA   NA   NA   NA    NA    NA    NA   \n",
       "2010-01-01  95  50   26   NA   NA   NA   NA   NA   NA   NA    NA    NA    NA   \n",
       "2010-02-01 100  19   NA   NA   NA   NA   NA   NA   NA   NA    NA    NA    NA   \n",
       "2010-03-01  24  NA   NA   NA   NA   NA   NA   NA   NA   NA    NA    NA    NA   \n",
       "           [,14] [,15]\n",
       "2009-01-01  7     6   \n",
       "2009-02-01 NA    NA   \n",
       "2009-03-01 NA    NA   \n",
       "2009-04-01 NA    NA   \n",
       "2009-05-01 NA    NA   \n",
       "2009-06-01 NA    NA   \n",
       "2009-07-01 NA    NA   \n",
       "2009-08-01 NA    NA   \n",
       "2009-09-01 NA    NA   \n",
       "2009-10-01 NA    NA   \n",
       "2009-11-01 NA    NA   \n",
       "2009-12-01 NA    NA   \n",
       "2010-01-01 NA    NA   \n",
       "2010-02-01 NA    NA   \n",
       "2010-03-01 NA    NA   "
      ]
     },
     "metadata": {},
     "output_type": "display_data"
    }
   ],
   "source": [
    "t(user_retention)"
   ]
  },
  {
   "cell_type": "markdown",
   "metadata": {},
   "source": [
    "In the above matrix, the first column denotes the number of new customers that came and the consecutive columns denote how many customers from a cohort group ordered in their next order period. \n",
    "\n",
    "The above can be better visualized using a retention graph as we do below"
   ]
  },
  {
   "cell_type": "code",
   "execution_count": 9,
   "metadata": {},
   "outputs": [],
   "source": [
    "mat <- sapply(user_retention, function(x) as.numeric(gsub(\"\\\\.\", \"\", x)))\n",
    "user_perc<-t(t(mat) / mat[1, ])"
   ]
  },
  {
   "cell_type": "markdown",
   "metadata": {},
   "source": [
    "Heatmaps in R are not suited for our purpose and are relatively more difficult articulate for our particular task (they are also less aesthetic). Hence I have used python Seaborn instead.\n",
    "\n",
    "We use 'reticulate' library to bridge R and Python. "
   ]
  },
  {
   "cell_type": "code",
   "execution_count": 10,
   "metadata": {},
   "outputs": [
    {
     "name": "stderr",
     "output_type": "stream",
     "text": [
      "Warning message:\n",
      "\"package 'reticulate' was built under R version 3.5.1\""
     ]
    },
    {
     "data": {
      "text/plain": [
       "[[1]]\n",
       "Figure(1800x1200)\n",
       "\n",
       "[[2]]\n",
       "AxesSubplot(0.125,0.11;0.775x0.77)\n"
      ]
     },
     "metadata": {},
     "output_type": "display_data"
    },
    {
     "data": {
      "text/plain": [
       "Text(0.5, 0, 'Cohort Period')"
      ]
     },
     "metadata": {},
     "output_type": "display_data"
    },
    {
     "data": {
      "text/plain": [
       "Text(0, 0.5, 'Cohort Group')"
      ]
     },
     "metadata": {},
     "output_type": "display_data"
    },
    {
     "data": {
      "text/plain": [
       "AxesSubplot(0.125,0.11;0.62x0.77)"
      ]
     },
     "metadata": {},
     "output_type": "display_data"
    }
   ],
   "source": [
    "library(reticulate)\n",
    "use_python('C:\\\\Users\\\\Saket Singh\\\\AppData\\\\Local\\\\Programs\\\\Python\\\\Python36\\\\python.exe')\n",
    "sns <- import('seaborn')\n",
    "plt <- import('matplotlib.pyplot')\n",
    "\n",
    "# Create axes and plot. Save fig \n",
    "a4_dims <-c(18, 12)\n",
    "plt$subplots(figsize=a4_dims)\n",
    "plt$xlabel('Cohort Period', fontsize=18)\n",
    "plt$ylabel('Cohort Group', fontsize=16)\n",
    "sns$set(font_scale=0.7)\n",
    "sns$heatmap(t(user_perc), annot=TRUE, fmt='.0%')\n",
    "#plt$show()\n",
    "plt$savefig(\"Cohort.png\")\n"
   ]
  },
  {
   "cell_type": "markdown",
   "metadata": {},
   "source": [
    "![alt text](Cohort.png)"
   ]
  },
  {
   "cell_type": "code",
   "execution_count": null,
   "metadata": {},
   "outputs": [],
   "source": []
  }
 ],
 "metadata": {
  "kernelspec": {
   "display_name": "R",
   "language": "R",
   "name": "ir"
  },
  "language_info": {
   "codemirror_mode": "r",
   "file_extension": ".r",
   "mimetype": "text/x-r-source",
   "name": "R",
   "pygments_lexer": "r",
   "version": "3.5.0"
  }
 },
 "nbformat": 4,
 "nbformat_minor": 2
}
