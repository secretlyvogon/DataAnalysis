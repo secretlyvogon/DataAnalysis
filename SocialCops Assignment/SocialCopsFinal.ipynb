{
 "cells": [
  {
   "cell_type": "markdown",
   "metadata": {},
   "source": [
    "# Social Cops Assignment - Agriculture Commodities, Prices & Seasons\n",
    "<br>\n",
    "We'll start by including our required libraries\n"
   ]
  },
  {
   "cell_type": "code",
   "execution_count": 1,
   "metadata": {},
   "outputs": [
    {
     "name": "stderr",
     "output_type": "stream",
     "text": [
      "Warning message:\n",
      "\"package 'ggseas' was built under R version 3.5.1\"Loading required package: ggplot2\n",
      "Warning message:\n",
      "\"package 'ggplot2' was built under R version 3.5.1\"Warning message:\n",
      "\"package 'zoo' was built under R version 3.5.1\"\n",
      "Attaching package: 'zoo'\n",
      "\n",
      "The following objects are masked from 'package:base':\n",
      "\n",
      "    as.Date, as.Date.numeric\n",
      "\n",
      "Warning message:\n",
      "\"package 'tseries' was built under R version 3.5.1\"Warning message:\n",
      "\"package 'forecast' was built under R version 3.5.1\"Warning message:\n",
      "\"package 'data.table' was built under R version 3.5.1\""
     ]
    }
   ],
   "source": [
    "library(ggseas)\n",
    "library(zoo)\n",
    "library(tseries)\n",
    "library(forecast)\n",
    "library(data.table)"
   ]
  },
  {
   "cell_type": "markdown",
   "metadata": {},
   "source": [
    "Read Data and format data\n",
    "\n",
    "In the `date` attribute, the data only has year and month. To perform a time series analysis it has been converted to R's date format."
   ]
  },
  {
   "cell_type": "code",
   "execution_count": 2,
   "metadata": {},
   "outputs": [],
   "source": [
    "price_data<-fread(\"D:\\\\Python\\\\SocialCops\\\\Monthly_data_cmo.csv\")\n",
    "msp_data<-fread(\"D:\\\\Python\\\\SocialCops\\\\CMO_MSP_Mandi.csv\")\n",
    "price_data<-as.data.table(price_data)\n",
    "\n",
    "\n",
    "price_data$date<-as.Date(paste(price_data$date,\"-01\",sep=\"\"))"
   ]
  },
  {
   "cell_type": "markdown",
   "metadata": {},
   "source": [
    "#### Preprocessing \n",
    "<br>\n",
    "I assumed that a modal price of 0 doesn't make much sense, hence I decided to remove all such instances so as to perform a clean analysis. \n",
    "\n",
    "Furthermore, I have defined a function `remove_outliers` which removes outliers in the data by looking at the inter-quantile range. Any value which crosses 1.5 times the IQR on either side is termed as an outlier and removed from the data. \n",
    "\n",
    "For seasonal analysis I have resorted to using only `modal_price` attribute as it represents the data best corresponding to every month. *I also investigate whether it is dependent on quantity arrived.* All attributes which I do not use are hence discarded. "
   ]
  },
  {
   "cell_type": "code",
   "execution_count": 3,
   "metadata": {},
   "outputs": [],
   "source": [
    "remove_outliers <- function(x, na.rm = TRUE, ...) {\n",
    "  qnt <- quantile(x, probs=c(.25, .75), na.rm = na.rm, ...)\n",
    "  H <- 1.5 * IQR(x, na.rm = na.rm)\n",
    "  y <- x\n",
    "  y[x < (qnt[1] - H)] <- NA\n",
    "  y[x > (qnt[2] + H)] <- NA\n",
    "  y\n",
    "}"
   ]
  },
  {
   "cell_type": "code",
   "execution_count": 4,
   "metadata": {},
   "outputs": [
    {
     "data": {},
     "metadata": {},
     "output_type": "display_data"
    },
    {
     "data": {
      "text/html": [
       "-0.0397658464606918"
      ],
      "text/latex": [
       "-0.0397658464606918"
      ],
      "text/markdown": [
       "-0.0397658464606918"
      ],
      "text/plain": [
       "[1] -0.03976585"
      ]
     },
     "metadata": {},
     "output_type": "display_data"
    }
   ],
   "source": [
    "# remove 0 modal_price data points\n",
    "price_data<-price_data[price_data$modal_price!=0]\n",
    "# remove outliers\n",
    "price_data[, new:=modal_price][, new:=remove_outliers(modal_price), by=.(APMC, Commodity)]\n",
    "price_data<-na.omit(price_data)\n",
    "# Find correlation of price to supply\n",
    "cor(price_data$modal_price, price_data$arrivals_in_qtl)"
   ]
  },
  {
   "cell_type": "markdown",
   "metadata": {},
   "source": [
    "Since there is an extremely weak correlation of approximately -0.04 , we can safely remove the arrivals_in_qtl from our data and simply concentrate on modal price."
   ]
  },
  {
   "cell_type": "code",
   "execution_count": 5,
   "metadata": {},
   "outputs": [],
   "source": [
    "# remove extra attributes\n",
    "price_data[,c('Month','arrivals_in_qtl','min_price','max_price','district_name','state_name')]<-NULL"
   ]
  },
  {
   "cell_type": "markdown",
   "metadata": {},
   "source": [
    "#### Finding Seasonality Type and Deseasonalising Prices\n",
    "<br>\n",
    "My algorithm to address the above question is as follows:\n",
    "<br> <br>\n",
    "1. Identify and separate **trend** values from the data <br>\n",
    "2 Since we don't know which type of seasonality the different APMC-Commodity clusters exhibit, I detrend according to both <br>\n",
    "3. Now to get the season variation, I took mean of data in every cluster according to the quarters in every year <br>\n",
    "4. To see the influence of any temporal pattern, I use the autocorrelation function: `acf()` provided by R and for each APC-Commodity cluster residuals and calculate it's sum. I pass both additive and multiplicative residuals in order to compare their validity <br>\n",
    "5. With the `compare_ssacf()` function I compare and assign in the dataset the corresponding seasonality type <br>"
   ]
  },
  {
   "cell_type": "code",
   "execution_count": 6,
   "metadata": {},
   "outputs": [
    {
     "data": {
      "text/html": [
       "<table>\n",
       "<thead><tr><th scope=col>APMC</th><th scope=col>Commodity</th><th scope=col>Year</th><th scope=col>modal_price</th><th scope=col>date</th><th scope=col>new</th><th scope=col>trend</th></tr></thead>\n",
       "<tbody>\n",
       "\t<tr><td>Ahmednagar   </td><td>Bajri        </td><td>2015         </td><td>1463         </td><td>2015-04-01   </td><td>1463         </td><td>1463.000     </td></tr>\n",
       "\t<tr><td>Ahmednagar   </td><td>Bajri        </td><td>2016         </td><td>1875         </td><td>2016-04-01   </td><td>1875         </td><td>1651.000     </td></tr>\n",
       "\t<tr><td>Ahmednagar   </td><td>Wheat(Husked)</td><td>2015         </td><td>1731         </td><td>2015-04-01   </td><td>1731         </td><td>1731.000     </td></tr>\n",
       "\t<tr><td>Ahmednagar   </td><td>Wheat(Husked)</td><td>2016         </td><td>1999         </td><td>2016-04-01   </td><td>1999         </td><td>1776.667     </td></tr>\n",
       "\t<tr><td>Ahmednagar   </td><td>Sorgum(Jawar)</td><td>2015         </td><td>1900         </td><td>2015-04-01   </td><td>1900         </td><td>1900.000     </td></tr>\n",
       "\t<tr><td>Ahmednagar   </td><td>Sorgum(Jawar)</td><td>2016         </td><td>2119         </td><td>2016-04-01   </td><td>2119         </td><td>1978.000     </td></tr>\n",
       "</tbody>\n",
       "</table>\n"
      ],
      "text/latex": [
       "\\begin{tabular}{r|lllllll}\n",
       " APMC & Commodity & Year & modal\\_price & date & new & trend\\\\\n",
       "\\hline\n",
       "\t Ahmednagar    & Bajri         & 2015          & 1463          & 2015-04-01    & 1463          & 1463.000     \\\\\n",
       "\t Ahmednagar    & Bajri         & 2016          & 1875          & 2016-04-01    & 1875          & 1651.000     \\\\\n",
       "\t Ahmednagar    & Wheat(Husked) & 2015          & 1731          & 2015-04-01    & 1731          & 1731.000     \\\\\n",
       "\t Ahmednagar    & Wheat(Husked) & 2016          & 1999          & 2016-04-01    & 1999          & 1776.667     \\\\\n",
       "\t Ahmednagar    & Sorgum(Jawar) & 2015          & 1900          & 2015-04-01    & 1900          & 1900.000     \\\\\n",
       "\t Ahmednagar    & Sorgum(Jawar) & 2016          & 2119          & 2016-04-01    & 2119          & 1978.000     \\\\\n",
       "\\end{tabular}\n"
      ],
      "text/markdown": [
       "\n",
       "APMC | Commodity | Year | modal_price | date | new | trend | \n",
       "|---|---|---|---|---|---|\n",
       "| Ahmednagar    | Bajri         | 2015          | 1463          | 2015-04-01    | 1463          | 1463.000      | \n",
       "| Ahmednagar    | Bajri         | 2016          | 1875          | 2016-04-01    | 1875          | 1651.000      | \n",
       "| Ahmednagar    | Wheat(Husked) | 2015          | 1731          | 2015-04-01    | 1731          | 1731.000      | \n",
       "| Ahmednagar    | Wheat(Husked) | 2016          | 1999          | 2016-04-01    | 1999          | 1776.667      | \n",
       "| Ahmednagar    | Sorgum(Jawar) | 2015          | 1900          | 2015-04-01    | 1900          | 1900.000      | \n",
       "| Ahmednagar    | Sorgum(Jawar) | 2016          | 2119          | 2016-04-01    | 2119          | 1978.000      | \n",
       "\n",
       "\n"
      ],
      "text/plain": [
       "  APMC       Commodity     Year modal_price date       new  trend   \n",
       "1 Ahmednagar Bajri         2015 1463        2015-04-01 1463 1463.000\n",
       "2 Ahmednagar Bajri         2016 1875        2016-04-01 1875 1651.000\n",
       "3 Ahmednagar Wheat(Husked) 2015 1731        2015-04-01 1731 1731.000\n",
       "4 Ahmednagar Wheat(Husked) 2016 1999        2016-04-01 1999 1776.667\n",
       "5 Ahmednagar Sorgum(Jawar) 2015 1900        2015-04-01 1900 1900.000\n",
       "6 Ahmednagar Sorgum(Jawar) 2016 2119        2016-04-01 2119 1978.000"
      ]
     },
     "metadata": {},
     "output_type": "display_data"
    },
    {
     "data": {},
     "metadata": {},
     "output_type": "display_data"
    },
    {
     "data": {
      "text/html": [
       "<table>\n",
       "<thead><tr><th scope=col>APMC</th><th scope=col>Commodity</th><th scope=col>Year</th><th scope=col>modal_price</th><th scope=col>date</th><th scope=col>new</th><th scope=col>trend</th><th scope=col>detrended_a</th><th scope=col>detrended_m</th></tr></thead>\n",
       "<tbody>\n",
       "\t<tr><td>Ahmednagar   </td><td>Bajri        </td><td>2015         </td><td>1463         </td><td>2015-04-01   </td><td>1463         </td><td>1463.000     </td><td>  0.0000     </td><td>1.000000     </td></tr>\n",
       "\t<tr><td>Ahmednagar   </td><td>Bajri        </td><td>2016         </td><td>1875         </td><td>2016-04-01   </td><td>1875         </td><td>1651.000     </td><td>224.0000     </td><td>1.135675     </td></tr>\n",
       "\t<tr><td>Ahmednagar   </td><td>Wheat(Husked)</td><td>2015         </td><td>1731         </td><td>2015-04-01   </td><td>1731         </td><td>1731.000     </td><td>  0.0000     </td><td>1.000000     </td></tr>\n",
       "\t<tr><td>Ahmednagar   </td><td>Wheat(Husked)</td><td>2016         </td><td>1999         </td><td>2016-04-01   </td><td>1999         </td><td>1776.667     </td><td>222.3333     </td><td>1.125141     </td></tr>\n",
       "\t<tr><td>Ahmednagar   </td><td>Sorgum(Jawar)</td><td>2015         </td><td>1900         </td><td>2015-04-01   </td><td>1900         </td><td>1900.000     </td><td>  0.0000     </td><td>1.000000     </td></tr>\n",
       "\t<tr><td>Ahmednagar   </td><td>Sorgum(Jawar)</td><td>2016         </td><td>2119         </td><td>2016-04-01   </td><td>2119         </td><td>1978.000     </td><td>141.0000     </td><td>1.071284     </td></tr>\n",
       "</tbody>\n",
       "</table>\n"
      ],
      "text/latex": [
       "\\begin{tabular}{r|lllllllll}\n",
       " APMC & Commodity & Year & modal\\_price & date & new & trend & detrended\\_a & detrended\\_m\\\\\n",
       "\\hline\n",
       "\t Ahmednagar    & Bajri         & 2015          & 1463          & 2015-04-01    & 1463          & 1463.000      &   0.0000      & 1.000000     \\\\\n",
       "\t Ahmednagar    & Bajri         & 2016          & 1875          & 2016-04-01    & 1875          & 1651.000      & 224.0000      & 1.135675     \\\\\n",
       "\t Ahmednagar    & Wheat(Husked) & 2015          & 1731          & 2015-04-01    & 1731          & 1731.000      &   0.0000      & 1.000000     \\\\\n",
       "\t Ahmednagar    & Wheat(Husked) & 2016          & 1999          & 2016-04-01    & 1999          & 1776.667      & 222.3333      & 1.125141     \\\\\n",
       "\t Ahmednagar    & Sorgum(Jawar) & 2015          & 1900          & 2015-04-01    & 1900          & 1900.000      &   0.0000      & 1.000000     \\\\\n",
       "\t Ahmednagar    & Sorgum(Jawar) & 2016          & 2119          & 2016-04-01    & 2119          & 1978.000      & 141.0000      & 1.071284     \\\\\n",
       "\\end{tabular}\n"
      ],
      "text/markdown": [
       "\n",
       "APMC | Commodity | Year | modal_price | date | new | trend | detrended_a | detrended_m | \n",
       "|---|---|---|---|---|---|\n",
       "| Ahmednagar    | Bajri         | 2015          | 1463          | 2015-04-01    | 1463          | 1463.000      |   0.0000      | 1.000000      | \n",
       "| Ahmednagar    | Bajri         | 2016          | 1875          | 2016-04-01    | 1875          | 1651.000      | 224.0000      | 1.135675      | \n",
       "| Ahmednagar    | Wheat(Husked) | 2015          | 1731          | 2015-04-01    | 1731          | 1731.000      |   0.0000      | 1.000000      | \n",
       "| Ahmednagar    | Wheat(Husked) | 2016          | 1999          | 2016-04-01    | 1999          | 1776.667      | 222.3333      | 1.125141      | \n",
       "| Ahmednagar    | Sorgum(Jawar) | 2015          | 1900          | 2015-04-01    | 1900          | 1900.000      |   0.0000      | 1.000000      | \n",
       "| Ahmednagar    | Sorgum(Jawar) | 2016          | 2119          | 2016-04-01    | 2119          | 1978.000      | 141.0000      | 1.071284      | \n",
       "\n",
       "\n"
      ],
      "text/plain": [
       "  APMC       Commodity     Year modal_price date       new  trend   \n",
       "1 Ahmednagar Bajri         2015 1463        2015-04-01 1463 1463.000\n",
       "2 Ahmednagar Bajri         2016 1875        2016-04-01 1875 1651.000\n",
       "3 Ahmednagar Wheat(Husked) 2015 1731        2015-04-01 1731 1731.000\n",
       "4 Ahmednagar Wheat(Husked) 2016 1999        2016-04-01 1999 1776.667\n",
       "5 Ahmednagar Sorgum(Jawar) 2015 1900        2015-04-01 1900 1900.000\n",
       "6 Ahmednagar Sorgum(Jawar) 2016 2119        2016-04-01 2119 1978.000\n",
       "  detrended_a detrended_m\n",
       "1   0.0000    1.000000   \n",
       "2 224.0000    1.135675   \n",
       "3   0.0000    1.000000   \n",
       "4 222.3333    1.125141   \n",
       "5   0.0000    1.000000   \n",
       "6 141.0000    1.071284   "
      ]
     },
     "metadata": {},
     "output_type": "display_data"
    },
    {
     "data": {},
     "metadata": {},
     "output_type": "display_data"
    },
    {
     "data": {
      "text/html": [
       "<table>\n",
       "<thead><tr><th scope=col>APMC</th><th scope=col>Commodity</th><th scope=col>Year</th><th scope=col>modal_price</th><th scope=col>date</th><th scope=col>new</th><th scope=col>trend</th><th scope=col>detrended_a</th><th scope=col>detrended_m</th><th scope=col>seasonal_a</th><th scope=col>seasonal_m</th></tr></thead>\n",
       "<tbody>\n",
       "\t<tr><td>Ahmednagar   </td><td>Bajri        </td><td>2015         </td><td>1463         </td><td>2015-04-01   </td><td>1463         </td><td>1463.000     </td><td>  0.0000     </td><td>1.000000     </td><td>88.466667    </td><td>1.052843     </td></tr>\n",
       "\t<tr><td>Ahmednagar   </td><td>Bajri        </td><td>2016         </td><td>1875         </td><td>2016-04-01   </td><td>1875         </td><td>1651.000     </td><td>224.0000     </td><td>1.135675     </td><td>88.466667    </td><td>1.052843     </td></tr>\n",
       "\t<tr><td>Ahmednagar   </td><td>Wheat(Husked)</td><td>2015         </td><td>1731         </td><td>2015-04-01   </td><td>1731         </td><td>1731.000     </td><td>  0.0000     </td><td>1.000000     </td><td>85.833333    </td><td>1.047333     </td></tr>\n",
       "\t<tr><td>Ahmednagar   </td><td>Wheat(Husked)</td><td>2016         </td><td>1999         </td><td>2016-04-01   </td><td>1999         </td><td>1776.667     </td><td>222.3333     </td><td>1.125141     </td><td>85.833333    </td><td>1.047333     </td></tr>\n",
       "\t<tr><td>Ahmednagar   </td><td>Sorgum(Jawar)</td><td>2015         </td><td>1900         </td><td>2015-04-01   </td><td>1900         </td><td>1900.000     </td><td>  0.0000     </td><td>1.000000     </td><td> 9.066667    </td><td>1.005833     </td></tr>\n",
       "\t<tr><td>Ahmednagar   </td><td>Sorgum(Jawar)</td><td>2016         </td><td>2119         </td><td>2016-04-01   </td><td>2119         </td><td>1978.000     </td><td>141.0000     </td><td>1.071284     </td><td> 9.066667    </td><td>1.005833     </td></tr>\n",
       "</tbody>\n",
       "</table>\n"
      ],
      "text/latex": [
       "\\begin{tabular}{r|lllllllllll}\n",
       " APMC & Commodity & Year & modal\\_price & date & new & trend & detrended\\_a & detrended\\_m & seasonal\\_a & seasonal\\_m\\\\\n",
       "\\hline\n",
       "\t Ahmednagar    & Bajri         & 2015          & 1463          & 2015-04-01    & 1463          & 1463.000      &   0.0000      & 1.000000      & 88.466667     & 1.052843     \\\\\n",
       "\t Ahmednagar    & Bajri         & 2016          & 1875          & 2016-04-01    & 1875          & 1651.000      & 224.0000      & 1.135675      & 88.466667     & 1.052843     \\\\\n",
       "\t Ahmednagar    & Wheat(Husked) & 2015          & 1731          & 2015-04-01    & 1731          & 1731.000      &   0.0000      & 1.000000      & 85.833333     & 1.047333     \\\\\n",
       "\t Ahmednagar    & Wheat(Husked) & 2016          & 1999          & 2016-04-01    & 1999          & 1776.667      & 222.3333      & 1.125141      & 85.833333     & 1.047333     \\\\\n",
       "\t Ahmednagar    & Sorgum(Jawar) & 2015          & 1900          & 2015-04-01    & 1900          & 1900.000      &   0.0000      & 1.000000      &  9.066667     & 1.005833     \\\\\n",
       "\t Ahmednagar    & Sorgum(Jawar) & 2016          & 2119          & 2016-04-01    & 2119          & 1978.000      & 141.0000      & 1.071284      &  9.066667     & 1.005833     \\\\\n",
       "\\end{tabular}\n"
      ],
      "text/markdown": [
       "\n",
       "APMC | Commodity | Year | modal_price | date | new | trend | detrended_a | detrended_m | seasonal_a | seasonal_m | \n",
       "|---|---|---|---|---|---|\n",
       "| Ahmednagar    | Bajri         | 2015          | 1463          | 2015-04-01    | 1463          | 1463.000      |   0.0000      | 1.000000      | 88.466667     | 1.052843      | \n",
       "| Ahmednagar    | Bajri         | 2016          | 1875          | 2016-04-01    | 1875          | 1651.000      | 224.0000      | 1.135675      | 88.466667     | 1.052843      | \n",
       "| Ahmednagar    | Wheat(Husked) | 2015          | 1731          | 2015-04-01    | 1731          | 1731.000      |   0.0000      | 1.000000      | 85.833333     | 1.047333      | \n",
       "| Ahmednagar    | Wheat(Husked) | 2016          | 1999          | 2016-04-01    | 1999          | 1776.667      | 222.3333      | 1.125141      | 85.833333     | 1.047333      | \n",
       "| Ahmednagar    | Sorgum(Jawar) | 2015          | 1900          | 2015-04-01    | 1900          | 1900.000      |   0.0000      | 1.000000      |  9.066667     | 1.005833      | \n",
       "| Ahmednagar    | Sorgum(Jawar) | 2016          | 2119          | 2016-04-01    | 2119          | 1978.000      | 141.0000      | 1.071284      |  9.066667     | 1.005833      | \n",
       "\n",
       "\n"
      ],
      "text/plain": [
       "  APMC       Commodity     Year modal_price date       new  trend   \n",
       "1 Ahmednagar Bajri         2015 1463        2015-04-01 1463 1463.000\n",
       "2 Ahmednagar Bajri         2016 1875        2016-04-01 1875 1651.000\n",
       "3 Ahmednagar Wheat(Husked) 2015 1731        2015-04-01 1731 1731.000\n",
       "4 Ahmednagar Wheat(Husked) 2016 1999        2016-04-01 1999 1776.667\n",
       "5 Ahmednagar Sorgum(Jawar) 2015 1900        2015-04-01 1900 1900.000\n",
       "6 Ahmednagar Sorgum(Jawar) 2016 2119        2016-04-01 2119 1978.000\n",
       "  detrended_a detrended_m seasonal_a seasonal_m\n",
       "1   0.0000    1.000000    88.466667  1.052843  \n",
       "2 224.0000    1.135675    88.466667  1.052843  \n",
       "3   0.0000    1.000000    85.833333  1.047333  \n",
       "4 222.3333    1.125141    85.833333  1.047333  \n",
       "5   0.0000    1.000000     9.066667  1.005833  \n",
       "6 141.0000    1.071284     9.066667  1.005833  "
      ]
     },
     "metadata": {},
     "output_type": "display_data"
    },
    {
     "data": {},
     "metadata": {},
     "output_type": "display_data"
    },
    {
     "data": {
      "text/html": [
       "<table>\n",
       "<thead><tr><th scope=col>APMC</th><th scope=col>Commodity</th><th scope=col>Year</th><th scope=col>modal_price</th><th scope=col>date</th><th scope=col>new</th><th scope=col>trend</th><th scope=col>detrended_a</th><th scope=col>detrended_m</th><th scope=col>seasonal_a</th><th scope=col>seasonal_m</th><th scope=col>residual_a</th><th scope=col>residual_m</th></tr></thead>\n",
       "<tbody>\n",
       "\t<tr><td>Ahmednagar   </td><td>Bajri        </td><td>2015         </td><td>1463         </td><td>2015-04-01   </td><td>1463         </td><td>1463.000     </td><td>  0.0000     </td><td>1.000000     </td><td>88.466667    </td><td>1.052843     </td><td>-88.466667   </td><td>0.9498097    </td></tr>\n",
       "\t<tr><td>Ahmednagar   </td><td>Bajri        </td><td>2016         </td><td>1875         </td><td>2016-04-01   </td><td>1875         </td><td>1651.000     </td><td>224.0000     </td><td>1.135675     </td><td>88.466667    </td><td>1.052843     </td><td>135.533333   </td><td>1.0786754    </td></tr>\n",
       "\t<tr><td>Ahmednagar   </td><td>Wheat(Husked)</td><td>2015         </td><td>1731         </td><td>2015-04-01   </td><td>1731         </td><td>1731.000     </td><td>  0.0000     </td><td>1.000000     </td><td>85.833333    </td><td>1.047333     </td><td>-85.833333   </td><td>0.9548058    </td></tr>\n",
       "\t<tr><td>Ahmednagar   </td><td>Wheat(Husked)</td><td>2016         </td><td>1999         </td><td>2016-04-01   </td><td>1999         </td><td>1776.667     </td><td>222.3333     </td><td>1.125141     </td><td>85.833333    </td><td>1.047333     </td><td>136.500000   </td><td>1.0742908    </td></tr>\n",
       "\t<tr><td>Ahmednagar   </td><td>Sorgum(Jawar)</td><td>2015         </td><td>1900         </td><td>2015-04-01   </td><td>1900         </td><td>1900.000     </td><td>  0.0000     </td><td>1.000000     </td><td> 9.066667    </td><td>1.005833     </td><td> -9.066667   </td><td>0.9942011    </td></tr>\n",
       "\t<tr><td>Ahmednagar   </td><td>Sorgum(Jawar)</td><td>2016         </td><td>2119         </td><td>2016-04-01   </td><td>2119         </td><td>1978.000     </td><td>141.0000     </td><td>1.071284     </td><td> 9.066667    </td><td>1.005833     </td><td>131.933333   </td><td>1.0650718    </td></tr>\n",
       "</tbody>\n",
       "</table>\n"
      ],
      "text/latex": [
       "\\begin{tabular}{r|lllllllllllll}\n",
       " APMC & Commodity & Year & modal\\_price & date & new & trend & detrended\\_a & detrended\\_m & seasonal\\_a & seasonal\\_m & residual\\_a & residual\\_m\\\\\n",
       "\\hline\n",
       "\t Ahmednagar    & Bajri         & 2015          & 1463          & 2015-04-01    & 1463          & 1463.000      &   0.0000      & 1.000000      & 88.466667     & 1.052843      & -88.466667    & 0.9498097    \\\\\n",
       "\t Ahmednagar    & Bajri         & 2016          & 1875          & 2016-04-01    & 1875          & 1651.000      & 224.0000      & 1.135675      & 88.466667     & 1.052843      & 135.533333    & 1.0786754    \\\\\n",
       "\t Ahmednagar    & Wheat(Husked) & 2015          & 1731          & 2015-04-01    & 1731          & 1731.000      &   0.0000      & 1.000000      & 85.833333     & 1.047333      & -85.833333    & 0.9548058    \\\\\n",
       "\t Ahmednagar    & Wheat(Husked) & 2016          & 1999          & 2016-04-01    & 1999          & 1776.667      & 222.3333      & 1.125141      & 85.833333     & 1.047333      & 136.500000    & 1.0742908    \\\\\n",
       "\t Ahmednagar    & Sorgum(Jawar) & 2015          & 1900          & 2015-04-01    & 1900          & 1900.000      &   0.0000      & 1.000000      &  9.066667     & 1.005833      &  -9.066667    & 0.9942011    \\\\\n",
       "\t Ahmednagar    & Sorgum(Jawar) & 2016          & 2119          & 2016-04-01    & 2119          & 1978.000      & 141.0000      & 1.071284      &  9.066667     & 1.005833      & 131.933333    & 1.0650718    \\\\\n",
       "\\end{tabular}\n"
      ],
      "text/markdown": [
       "\n",
       "APMC | Commodity | Year | modal_price | date | new | trend | detrended_a | detrended_m | seasonal_a | seasonal_m | residual_a | residual_m | \n",
       "|---|---|---|---|---|---|\n",
       "| Ahmednagar    | Bajri         | 2015          | 1463          | 2015-04-01    | 1463          | 1463.000      |   0.0000      | 1.000000      | 88.466667     | 1.052843      | -88.466667    | 0.9498097     | \n",
       "| Ahmednagar    | Bajri         | 2016          | 1875          | 2016-04-01    | 1875          | 1651.000      | 224.0000      | 1.135675      | 88.466667     | 1.052843      | 135.533333    | 1.0786754     | \n",
       "| Ahmednagar    | Wheat(Husked) | 2015          | 1731          | 2015-04-01    | 1731          | 1731.000      |   0.0000      | 1.000000      | 85.833333     | 1.047333      | -85.833333    | 0.9548058     | \n",
       "| Ahmednagar    | Wheat(Husked) | 2016          | 1999          | 2016-04-01    | 1999          | 1776.667      | 222.3333      | 1.125141      | 85.833333     | 1.047333      | 136.500000    | 1.0742908     | \n",
       "| Ahmednagar    | Sorgum(Jawar) | 2015          | 1900          | 2015-04-01    | 1900          | 1900.000      |   0.0000      | 1.000000      |  9.066667     | 1.005833      |  -9.066667    | 0.9942011     | \n",
       "| Ahmednagar    | Sorgum(Jawar) | 2016          | 2119          | 2016-04-01    | 2119          | 1978.000      | 141.0000      | 1.071284      |  9.066667     | 1.005833      | 131.933333    | 1.0650718     | \n",
       "\n",
       "\n"
      ],
      "text/plain": [
       "  APMC       Commodity     Year modal_price date       new  trend   \n",
       "1 Ahmednagar Bajri         2015 1463        2015-04-01 1463 1463.000\n",
       "2 Ahmednagar Bajri         2016 1875        2016-04-01 1875 1651.000\n",
       "3 Ahmednagar Wheat(Husked) 2015 1731        2015-04-01 1731 1731.000\n",
       "4 Ahmednagar Wheat(Husked) 2016 1999        2016-04-01 1999 1776.667\n",
       "5 Ahmednagar Sorgum(Jawar) 2015 1900        2015-04-01 1900 1900.000\n",
       "6 Ahmednagar Sorgum(Jawar) 2016 2119        2016-04-01 2119 1978.000\n",
       "  detrended_a detrended_m seasonal_a seasonal_m residual_a residual_m\n",
       "1   0.0000    1.000000    88.466667  1.052843   -88.466667 0.9498097 \n",
       "2 224.0000    1.135675    88.466667  1.052843   135.533333 1.0786754 \n",
       "3   0.0000    1.000000    85.833333  1.047333   -85.833333 0.9548058 \n",
       "4 222.3333    1.125141    85.833333  1.047333   136.500000 1.0742908 \n",
       "5   0.0000    1.000000     9.066667  1.005833    -9.066667 0.9942011 \n",
       "6 141.0000    1.071284     9.066667  1.005833   131.933333 1.0650718 "
      ]
     },
     "metadata": {},
     "output_type": "display_data"
    },
    {
     "data": {},
     "metadata": {},
     "output_type": "display_data"
    }
   ],
   "source": [
    "# Add trend\n",
    "price_data$trend<-ave(price_data$modal_price, price_data[,1:2], FUN = function(x) rollmean(x, k=3, fill=x))\n",
    "price_data<-na.omit(price_data)\n",
    "head(price_data)\n",
    "# De-trend data\n",
    "price_data[,`:=`( detrended_a = modal_price - trend,  detrended_m = modal_price / trend )]\n",
    "head(price_data)\n",
    "\n",
    "# Make seasonal component\n",
    "price_data[,`:=`(seasonal_a = mean(detrended_a, na.rm = TRUE),\n",
    "             seasonal_m = mean(detrended_m, na.rm = TRUE)), \n",
    "          by=.(APMC,Commodity,quarter(date)) ]\n",
    "head(price_data)\n",
    "                      \n",
    "#print(price_data[is.na(price_data$seasonal_m)])\n",
    "# Make residual\n",
    "price_data[,`:=`( residual_a = detrended_a - seasonal_a, \n",
    "                 residual_m = detrended_m / seasonal_m )]\n",
    "head(price_data)\n",
    "                     \n",
    "price_data<-as.data.table(na.omit(price_data))\n",
    "# Auto-correlated factor\n",
    "ssacf<- function(x) sum(acf(x, na.action = na.remove, plot= FALSE)$acf^2)\n",
    "compare_ssacf<-function(add,mult) ifelse(ssacf(add)< ssacf(mult), \n",
    "                                         \"Additive\", \"Multiplicative\") \n",
    "                     \n",
    "price_data[, `:=` (seasType = mapply(compare_ssacf, residual_a, residual_m)), by = .(APMC, Commodity)]"
   ]
  },
  {
   "cell_type": "markdown",
   "metadata": {},
   "source": [
    "Now to deseasonalize, we follow the simple rule:\n",
    "<br>\n",
    "1. In case of 'Additive', subtract the seasonal component from the original data and whatever is left is the deseasonalized price<br>\n",
    "\n",
    "2. Similarly, in case of 'Multiplcative', divide from the original data by the seasonal component.<br>"
   ]
  },
  {
   "cell_type": "code",
   "execution_count": 7,
   "metadata": {},
   "outputs": [],
   "source": [
    "price_data$deSeasonalized<-0\n",
    "price_data[price_data$seasType=='Multiplicative']$deSeasonalized<-price_data$modal_price/price_data$seasonal_m\n",
    "price_data[price_data$seasType=='Additive']$deSeasonalized<-price_data$modal_price-price_data$seasonal_a"
   ]
  },
  {
   "cell_type": "markdown",
   "metadata": {},
   "source": [
    "Finally the data table looks like"
   ]
  },
  {
   "cell_type": "code",
   "execution_count": 8,
   "metadata": {},
   "outputs": [
    {
     "data": {
      "text/html": [
       "<table>\n",
       "<thead><tr><th scope=col>APMC</th><th scope=col>Commodity</th><th scope=col>Year</th><th scope=col>modal_price</th><th scope=col>date</th><th scope=col>new</th><th scope=col>trend</th><th scope=col>detrended_a</th><th scope=col>detrended_m</th><th scope=col>seasonal_a</th><th scope=col>seasonal_m</th><th scope=col>residual_a</th><th scope=col>residual_m</th><th scope=col>seasType</th><th scope=col>deSeasonalized</th></tr></thead>\n",
       "<tbody>\n",
       "\t<tr><td>Ahmednagar    </td><td>Bajri         </td><td>2015          </td><td>1463          </td><td>2015-04-01    </td><td>1463          </td><td>1463.000      </td><td>  0.0000      </td><td>1.000000      </td><td>88.466667     </td><td>1.052843      </td><td>-88.466667    </td><td>0.9498097     </td><td>Multiplicative</td><td>1389.572      </td></tr>\n",
       "\t<tr><td>Ahmednagar    </td><td>Bajri         </td><td>2016          </td><td>1875          </td><td>2016-04-01    </td><td>1875          </td><td>1651.000      </td><td>224.0000      </td><td>1.135675      </td><td>88.466667     </td><td>1.052843      </td><td>135.533333    </td><td>1.0786754     </td><td>Multiplicative</td><td>1780.893      </td></tr>\n",
       "\t<tr><td>Ahmednagar    </td><td>Wheat(Husked) </td><td>2015          </td><td>1731          </td><td>2015-04-01    </td><td>1731          </td><td>1731.000      </td><td>  0.0000      </td><td>1.000000      </td><td>85.833333     </td><td>1.047333      </td><td>-85.833333    </td><td>0.9548058     </td><td>Multiplicative</td><td>1652.769      </td></tr>\n",
       "\t<tr><td>Ahmednagar    </td><td>Wheat(Husked) </td><td>2016          </td><td>1999          </td><td>2016-04-01    </td><td>1999          </td><td>1776.667      </td><td>222.3333      </td><td>1.125141      </td><td>85.833333     </td><td>1.047333      </td><td>136.500000    </td><td>1.0742908     </td><td>Multiplicative</td><td>1908.657      </td></tr>\n",
       "\t<tr><td>Ahmednagar    </td><td>Sorgum(Jawar) </td><td>2015          </td><td>1900          </td><td>2015-04-01    </td><td>1900          </td><td>1900.000      </td><td>  0.0000      </td><td>1.000000      </td><td> 9.066667     </td><td>1.005833      </td><td> -9.066667    </td><td>0.9942011     </td><td>Multiplicative</td><td>1888.982      </td></tr>\n",
       "\t<tr><td>Ahmednagar    </td><td>Sorgum(Jawar) </td><td>2016          </td><td>2119          </td><td>2016-04-01    </td><td>2119          </td><td>1978.000      </td><td>141.0000      </td><td>1.071284      </td><td> 9.066667     </td><td>1.005833      </td><td>131.933333    </td><td>1.0650718     </td><td>Multiplicative</td><td>2106.712      </td></tr>\n",
       "</tbody>\n",
       "</table>\n"
      ],
      "text/latex": [
       "\\begin{tabular}{r|lllllllllllllll}\n",
       " APMC & Commodity & Year & modal\\_price & date & new & trend & detrended\\_a & detrended\\_m & seasonal\\_a & seasonal\\_m & residual\\_a & residual\\_m & seasType & deSeasonalized\\\\\n",
       "\\hline\n",
       "\t Ahmednagar     & Bajri          & 2015           & 1463           & 2015-04-01     & 1463           & 1463.000       &   0.0000       & 1.000000       & 88.466667      & 1.052843       & -88.466667     & 0.9498097      & Multiplicative & 1389.572      \\\\\n",
       "\t Ahmednagar     & Bajri          & 2016           & 1875           & 2016-04-01     & 1875           & 1651.000       & 224.0000       & 1.135675       & 88.466667      & 1.052843       & 135.533333     & 1.0786754      & Multiplicative & 1780.893      \\\\\n",
       "\t Ahmednagar     & Wheat(Husked)  & 2015           & 1731           & 2015-04-01     & 1731           & 1731.000       &   0.0000       & 1.000000       & 85.833333      & 1.047333       & -85.833333     & 0.9548058      & Multiplicative & 1652.769      \\\\\n",
       "\t Ahmednagar     & Wheat(Husked)  & 2016           & 1999           & 2016-04-01     & 1999           & 1776.667       & 222.3333       & 1.125141       & 85.833333      & 1.047333       & 136.500000     & 1.0742908      & Multiplicative & 1908.657      \\\\\n",
       "\t Ahmednagar     & Sorgum(Jawar)  & 2015           & 1900           & 2015-04-01     & 1900           & 1900.000       &   0.0000       & 1.000000       &  9.066667      & 1.005833       &  -9.066667     & 0.9942011      & Multiplicative & 1888.982      \\\\\n",
       "\t Ahmednagar     & Sorgum(Jawar)  & 2016           & 2119           & 2016-04-01     & 2119           & 1978.000       & 141.0000       & 1.071284       &  9.066667      & 1.005833       & 131.933333     & 1.0650718      & Multiplicative & 2106.712      \\\\\n",
       "\\end{tabular}\n"
      ],
      "text/markdown": [
       "\n",
       "APMC | Commodity | Year | modal_price | date | new | trend | detrended_a | detrended_m | seasonal_a | seasonal_m | residual_a | residual_m | seasType | deSeasonalized | \n",
       "|---|---|---|---|---|---|\n",
       "| Ahmednagar     | Bajri          | 2015           | 1463           | 2015-04-01     | 1463           | 1463.000       |   0.0000       | 1.000000       | 88.466667      | 1.052843       | -88.466667     | 0.9498097      | Multiplicative | 1389.572       | \n",
       "| Ahmednagar     | Bajri          | 2016           | 1875           | 2016-04-01     | 1875           | 1651.000       | 224.0000       | 1.135675       | 88.466667      | 1.052843       | 135.533333     | 1.0786754      | Multiplicative | 1780.893       | \n",
       "| Ahmednagar     | Wheat(Husked)  | 2015           | 1731           | 2015-04-01     | 1731           | 1731.000       |   0.0000       | 1.000000       | 85.833333      | 1.047333       | -85.833333     | 0.9548058      | Multiplicative | 1652.769       | \n",
       "| Ahmednagar     | Wheat(Husked)  | 2016           | 1999           | 2016-04-01     | 1999           | 1776.667       | 222.3333       | 1.125141       | 85.833333      | 1.047333       | 136.500000     | 1.0742908      | Multiplicative | 1908.657       | \n",
       "| Ahmednagar     | Sorgum(Jawar)  | 2015           | 1900           | 2015-04-01     | 1900           | 1900.000       |   0.0000       | 1.000000       |  9.066667      | 1.005833       |  -9.066667     | 0.9942011      | Multiplicative | 1888.982       | \n",
       "| Ahmednagar     | Sorgum(Jawar)  | 2016           | 2119           | 2016-04-01     | 2119           | 1978.000       | 141.0000       | 1.071284       |  9.066667      | 1.005833       | 131.933333     | 1.0650718      | Multiplicative | 2106.712       | \n",
       "\n",
       "\n"
      ],
      "text/plain": [
       "  APMC       Commodity     Year modal_price date       new  trend   \n",
       "1 Ahmednagar Bajri         2015 1463        2015-04-01 1463 1463.000\n",
       "2 Ahmednagar Bajri         2016 1875        2016-04-01 1875 1651.000\n",
       "3 Ahmednagar Wheat(Husked) 2015 1731        2015-04-01 1731 1731.000\n",
       "4 Ahmednagar Wheat(Husked) 2016 1999        2016-04-01 1999 1776.667\n",
       "5 Ahmednagar Sorgum(Jawar) 2015 1900        2015-04-01 1900 1900.000\n",
       "6 Ahmednagar Sorgum(Jawar) 2016 2119        2016-04-01 2119 1978.000\n",
       "  detrended_a detrended_m seasonal_a seasonal_m residual_a residual_m\n",
       "1   0.0000    1.000000    88.466667  1.052843   -88.466667 0.9498097 \n",
       "2 224.0000    1.135675    88.466667  1.052843   135.533333 1.0786754 \n",
       "3   0.0000    1.000000    85.833333  1.047333   -85.833333 0.9548058 \n",
       "4 222.3333    1.125141    85.833333  1.047333   136.500000 1.0742908 \n",
       "5   0.0000    1.000000     9.066667  1.005833    -9.066667 0.9942011 \n",
       "6 141.0000    1.071284     9.066667  1.005833   131.933333 1.0650718 \n",
       "  seasType       deSeasonalized\n",
       "1 Multiplicative 1389.572      \n",
       "2 Multiplicative 1780.893      \n",
       "3 Multiplicative 1652.769      \n",
       "4 Multiplicative 1908.657      \n",
       "5 Multiplicative 1888.982      \n",
       "6 Multiplicative 2106.712      "
      ]
     },
     "metadata": {},
     "output_type": "display_data"
    }
   ],
   "source": [
    "head(price_data)\n",
    "write.csv(price_data, \"FinalData.csv\")"
   ]
  },
  {
   "cell_type": "markdown",
   "metadata": {},
   "source": [
    "#### Maximum Fluctuation APC-Commodity Clusters\n",
    "\n",
    "<br>\n",
    "For this problem, I found the standard deviation corresponding to all APMC-Commodity-Year groups first and then divided by the mean of the same group. I divide by mean because that would normalize our data. Otherwise we will not be able to compare two commodities with different price scales. "
   ]
  },
  {
   "cell_type": "code",
   "execution_count": 9,
   "metadata": {},
   "outputs": [],
   "source": [
    "var_price<-price_data[, sd(modal_price)/mean(modal_price) , by = .(APMC, Commodity, Year)]"
   ]
  },
  {
   "cell_type": "code",
   "execution_count": 10,
   "metadata": {},
   "outputs": [
    {
     "data": {
      "text/html": [
       "<table>\n",
       "<thead><tr><th scope=col>APMC</th><th scope=col>Commodity</th><th scope=col>Year</th><th scope=col>V1</th></tr></thead>\n",
       "<tbody>\n",
       "\t<tr><td>Ahmednagar   </td><td>Bajri        </td><td>2015         </td><td>0.05777363   </td></tr>\n",
       "\t<tr><td>Ahmednagar   </td><td>Bajri        </td><td>2016         </td><td>0.09594013   </td></tr>\n",
       "\t<tr><td>Ahmednagar   </td><td>Wheat(Husked)</td><td>2015         </td><td>0.04692434   </td></tr>\n",
       "\t<tr><td>Ahmednagar   </td><td>Wheat(Husked)</td><td>2016         </td><td>0.06013370   </td></tr>\n",
       "\t<tr><td>Ahmednagar   </td><td>Sorgum(Jawar)</td><td>2015         </td><td>0.06648933   </td></tr>\n",
       "\t<tr><td>Ahmednagar   </td><td>Sorgum(Jawar)</td><td>2016         </td><td>0.06317775   </td></tr>\n",
       "</tbody>\n",
       "</table>\n"
      ],
      "text/latex": [
       "\\begin{tabular}{r|llll}\n",
       " APMC & Commodity & Year & V1\\\\\n",
       "\\hline\n",
       "\t Ahmednagar    & Bajri         & 2015          & 0.05777363   \\\\\n",
       "\t Ahmednagar    & Bajri         & 2016          & 0.09594013   \\\\\n",
       "\t Ahmednagar    & Wheat(Husked) & 2015          & 0.04692434   \\\\\n",
       "\t Ahmednagar    & Wheat(Husked) & 2016          & 0.06013370   \\\\\n",
       "\t Ahmednagar    & Sorgum(Jawar) & 2015          & 0.06648933   \\\\\n",
       "\t Ahmednagar    & Sorgum(Jawar) & 2016          & 0.06317775   \\\\\n",
       "\\end{tabular}\n"
      ],
      "text/markdown": [
       "\n",
       "APMC | Commodity | Year | V1 | \n",
       "|---|---|---|---|---|---|\n",
       "| Ahmednagar    | Bajri         | 2015          | 0.05777363    | \n",
       "| Ahmednagar    | Bajri         | 2016          | 0.09594013    | \n",
       "| Ahmednagar    | Wheat(Husked) | 2015          | 0.04692434    | \n",
       "| Ahmednagar    | Wheat(Husked) | 2016          | 0.06013370    | \n",
       "| Ahmednagar    | Sorgum(Jawar) | 2015          | 0.06648933    | \n",
       "| Ahmednagar    | Sorgum(Jawar) | 2016          | 0.06317775    | \n",
       "\n",
       "\n"
      ],
      "text/plain": [
       "  APMC       Commodity     Year V1        \n",
       "1 Ahmednagar Bajri         2015 0.05777363\n",
       "2 Ahmednagar Bajri         2016 0.09594013\n",
       "3 Ahmednagar Wheat(Husked) 2015 0.04692434\n",
       "4 Ahmednagar Wheat(Husked) 2016 0.06013370\n",
       "5 Ahmednagar Sorgum(Jawar) 2015 0.06648933\n",
       "6 Ahmednagar Sorgum(Jawar) 2016 0.06317775"
      ]
     },
     "metadata": {},
     "output_type": "display_data"
    }
   ],
   "source": [
    "var_price<-na.omit(var_price)\n",
    "head(var_price)"
   ]
  },
  {
   "cell_type": "markdown",
   "metadata": {},
   "source": [
    "I order the table in order to show the most fluctuating commodities."
   ]
  },
  {
   "cell_type": "code",
   "execution_count": 11,
   "metadata": {},
   "outputs": [],
   "source": [
    "var_price<-var_price[order(-V1)]"
   ]
  },
  {
   "cell_type": "code",
   "execution_count": 12,
   "metadata": {},
   "outputs": [
    {
     "data": {
      "text/html": [
       "<table>\n",
       "<thead><tr><th scope=col>APMC</th><th scope=col>Commodity</th><th scope=col>Year</th><th scope=col>V1</th></tr></thead>\n",
       "<tbody>\n",
       "\t<tr><td>Nashik     </td><td>Raddish    </td><td>2015       </td><td>1.821567   </td></tr>\n",
       "\t<tr><td>Ramtek     </td><td>Jack Fruit </td><td>2015       </td><td>1.676578   </td></tr>\n",
       "\t<tr><td>Pune-Pimpri</td><td>Coriander  </td><td>2016       </td><td>1.653172   </td></tr>\n",
       "\t<tr><td>Akluj      </td><td>Coriander  </td><td>2016       </td><td>1.596218   </td></tr>\n",
       "\t<tr><td>Chandrapur </td><td>Orange     </td><td>2016       </td><td>1.410355   </td></tr>\n",
       "\t<tr><td>Ramtek     </td><td>Jambhul    </td><td>2015       </td><td>1.376997   </td></tr>\n",
       "</tbody>\n",
       "</table>\n"
      ],
      "text/latex": [
       "\\begin{tabular}{r|llll}\n",
       " APMC & Commodity & Year & V1\\\\\n",
       "\\hline\n",
       "\t Nashik      & Raddish     & 2015        & 1.821567   \\\\\n",
       "\t Ramtek      & Jack Fruit  & 2015        & 1.676578   \\\\\n",
       "\t Pune-Pimpri & Coriander   & 2016        & 1.653172   \\\\\n",
       "\t Akluj       & Coriander   & 2016        & 1.596218   \\\\\n",
       "\t Chandrapur  & Orange      & 2016        & 1.410355   \\\\\n",
       "\t Ramtek      & Jambhul     & 2015        & 1.376997   \\\\\n",
       "\\end{tabular}\n"
      ],
      "text/markdown": [
       "\n",
       "APMC | Commodity | Year | V1 | \n",
       "|---|---|---|---|---|---|\n",
       "| Nashik      | Raddish     | 2015        | 1.821567    | \n",
       "| Ramtek      | Jack Fruit  | 2015        | 1.676578    | \n",
       "| Pune-Pimpri | Coriander   | 2016        | 1.653172    | \n",
       "| Akluj       | Coriander   | 2016        | 1.596218    | \n",
       "| Chandrapur  | Orange      | 2016        | 1.410355    | \n",
       "| Ramtek      | Jambhul     | 2015        | 1.376997    | \n",
       "\n",
       "\n"
      ],
      "text/plain": [
       "  APMC        Commodity  Year V1      \n",
       "1 Nashik      Raddish    2015 1.821567\n",
       "2 Ramtek      Jack Fruit 2015 1.676578\n",
       "3 Pune-Pimpri Coriander  2016 1.653172\n",
       "4 Akluj       Coriander  2016 1.596218\n",
       "5 Chandrapur  Orange     2016 1.410355\n",
       "6 Ramtek      Jambhul    2015 1.376997"
      ]
     },
     "metadata": {},
     "output_type": "display_data"
    }
   ],
   "source": [
    "head(var_price)\n",
    "write.csv(var_price,\"Fluct.csv\")"
   ]
  },
  {
   "cell_type": "markdown",
   "metadata": {},
   "source": [
    "### MSP vs Deseasonalized prices - head to head\n",
    "<br>\n",
    "\n",
    "I created the matrix `mean_seasonal` below to get the mean of seasonal data of each commodity in every year to compare to the MSP from the other data. <br>\n",
    "Just to be sure that the names aren't different in terms of only capitalization, I have converted names of both to lower case. <br>\n",
    "Thereafter, I have simply merged the two datasets to get a head to head comparison."
   ]
  },
  {
   "cell_type": "code",
   "execution_count": 13,
   "metadata": {},
   "outputs": [],
   "source": [
    "mean_seasonal<-price_data[, mean(deSeasonalized) , by = .(Commodity, Year)]"
   ]
  },
  {
   "cell_type": "code",
   "execution_count": 14,
   "metadata": {},
   "outputs": [],
   "source": [
    "msp_data$commodity<-tolower(msp_data$commodity)\n",
    "msp_data$Commodity<-msp_data$commodity\n",
    "msp_data$commodity<-NULL\n",
    "msp_data$msp_filter<-NULL\n",
    "msp_data$Year<-msp_data$year\n",
    "msp_data$year<-NULL\n",
    "\n",
    "mean_seasonal$Commodity<-tolower(mean_seasonal$Commodity)"
   ]
  },
  {
   "cell_type": "code",
   "execution_count": 15,
   "metadata": {},
   "outputs": [],
   "source": [
    "comp_matrix<-merge(msp_data,mean_seasonal, by=c('Commodity', 'Year'))\n",
    "comp_matrix<-unique(comp_matrix, by=c('Commodity','Year'))\n",
    "colnames(comp_matrix)<-c('Commodity','Year','Type','msprice','Deseasonalized')"
   ]
  },
  {
   "cell_type": "code",
   "execution_count": 16,
   "metadata": {},
   "outputs": [
    {
     "data": {
      "text/html": [
       "<table>\n",
       "<thead><tr><th scope=col>Commodity</th><th scope=col>Year</th><th scope=col>Type</th><th scope=col>msprice</th><th scope=col>Deseasonalized</th></tr></thead>\n",
       "<tbody>\n",
       "\t<tr><td>bajri       </td><td>2014        </td><td>Kharif Crops</td><td>1250        </td><td>1422.662    </td></tr>\n",
       "\t<tr><td>bajri       </td><td>2015        </td><td>Kharif Crops</td><td>1275        </td><td>1405.908    </td></tr>\n",
       "\t<tr><td>bajri       </td><td>2016        </td><td>Kharif Crops</td><td>1330        </td><td>1606.848    </td></tr>\n",
       "\t<tr><td>coconut     </td><td>2014        </td><td>Other Crops </td><td>1425        </td><td>1282.121    </td></tr>\n",
       "\t<tr><td>coconut     </td><td>2015        </td><td>Other Crops </td><td>1500        </td><td>1423.477    </td></tr>\n",
       "\t<tr><td>coconut     </td><td>2016        </td><td>Other Crops </td><td>1600        </td><td>1071.919    </td></tr>\n",
       "</tbody>\n",
       "</table>\n"
      ],
      "text/latex": [
       "\\begin{tabular}{r|lllll}\n",
       " Commodity & Year & Type & msprice & Deseasonalized\\\\\n",
       "\\hline\n",
       "\t bajri        & 2014         & Kharif Crops & 1250         & 1422.662    \\\\\n",
       "\t bajri        & 2015         & Kharif Crops & 1275         & 1405.908    \\\\\n",
       "\t bajri        & 2016         & Kharif Crops & 1330         & 1606.848    \\\\\n",
       "\t coconut      & 2014         & Other Crops  & 1425         & 1282.121    \\\\\n",
       "\t coconut      & 2015         & Other Crops  & 1500         & 1423.477    \\\\\n",
       "\t coconut      & 2016         & Other Crops  & 1600         & 1071.919    \\\\\n",
       "\\end{tabular}\n"
      ],
      "text/markdown": [
       "\n",
       "Commodity | Year | Type | msprice | Deseasonalized | \n",
       "|---|---|---|---|---|---|\n",
       "| bajri        | 2014         | Kharif Crops | 1250         | 1422.662     | \n",
       "| bajri        | 2015         | Kharif Crops | 1275         | 1405.908     | \n",
       "| bajri        | 2016         | Kharif Crops | 1330         | 1606.848     | \n",
       "| coconut      | 2014         | Other Crops  | 1425         | 1282.121     | \n",
       "| coconut      | 2015         | Other Crops  | 1500         | 1423.477     | \n",
       "| coconut      | 2016         | Other Crops  | 1600         | 1071.919     | \n",
       "\n",
       "\n"
      ],
      "text/plain": [
       "  Commodity Year Type         msprice Deseasonalized\n",
       "1 bajri     2014 Kharif Crops 1250    1422.662      \n",
       "2 bajri     2015 Kharif Crops 1275    1405.908      \n",
       "3 bajri     2016 Kharif Crops 1330    1606.848      \n",
       "4 coconut   2014 Other Crops  1425    1282.121      \n",
       "5 coconut   2015 Other Crops  1500    1423.477      \n",
       "6 coconut   2016 Other Crops  1600    1071.919      "
      ]
     },
     "metadata": {},
     "output_type": "display_data"
    }
   ],
   "source": [
    "head(comp_matrix)\n",
    "write.csv(comp_matrix,\"CompMatrix.csv\")"
   ]
  }
 ],
 "metadata": {
  "kernelspec": {
   "display_name": "R",
   "language": "R",
   "name": "ir"
  },
  "language_info": {
   "codemirror_mode": "r",
   "file_extension": ".r",
   "mimetype": "text/x-r-source",
   "name": "R",
   "pygments_lexer": "r",
   "version": "3.5.0"
  }
 },
 "nbformat": 4,
 "nbformat_minor": 2
}
